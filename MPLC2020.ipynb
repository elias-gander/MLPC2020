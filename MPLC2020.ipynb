{
 "cells": [
  {
   "cell_type": "markdown",
   "metadata": {},
   "source": [
    "# MLPC '20 Project Notebook"
   ]
  },
  {
   "cell_type": "code",
   "execution_count": 1,
   "metadata": {},
   "outputs": [],
   "source": [
    "from opera_dataset import OperaDataset\n",
    "from evaluation_runner import EvaluationRunner\n",
    "from grid_search_wrapper import GridSearchWrapper\n",
    "\n",
    "from scipy import stats\n",
    "import numpy as np\n",
    "\n",
    "import seaborn as sns\n",
    "from matplotlib import pyplot as plt\n",
    "\n",
    "from sklearn.decomposition import PCA\n",
    "from sklearn.linear_model import LogisticRegression, SGDClassifier\n",
    "from sklearn.svm import SVC\n",
    "from sklearn.preprocessing import StandardScaler\n",
    "from sklearn.model_selection import GridSearchCV\n",
    "from sklearn.pipeline import Pipeline\n",
    "\n",
    "import itertools"
   ]
  },
  {
   "cell_type": "markdown",
   "metadata": {},
   "source": [
    "## 1 Load data"
   ]
  },
  {
   "cell_type": "code",
   "execution_count": 2,
   "metadata": {},
   "outputs": [],
   "source": [
    "data = OperaDataset(max_files=11)\n",
    "data.split()"
   ]
  },
  {
   "cell_type": "markdown",
   "metadata": {},
   "source": [
    "## 2 Analyse the data"
   ]
  },
  {
   "cell_type": "markdown",
   "metadata": {},
   "source": [
    "### 2.1 How are features correlated with each other or over time?"
   ]
  },
  {
   "cell_type": "code",
   "execution_count": 3,
   "metadata": {},
   "outputs": [
    {
     "data": {
      "text/html": [
       "<div>\n",
       "<style scoped>\n",
       "    .dataframe tbody tr th:only-of-type {\n",
       "        vertical-align: middle;\n",
       "    }\n",
       "\n",
       "    .dataframe tbody tr th {\n",
       "        vertical-align: top;\n",
       "    }\n",
       "\n",
       "    .dataframe thead th {\n",
       "        text-align: right;\n",
       "    }\n",
       "</style>\n",
       "<table border=\"1\" class=\"dataframe\">\n",
       "  <thead>\n",
       "    <tr style=\"text-align: right;\">\n",
       "      <th></th>\n",
       "      <th>mean_15.10.15_mfcc_0_40</th>\n",
       "      <th>mean_15.10.15_mfcc_1_40</th>\n",
       "      <th>mean_15.10.15_mfcc_2_40</th>\n",
       "      <th>mean_15.10.15_mfcc_3_40</th>\n",
       "      <th>mean_15.10.15_mfcc_4_40</th>\n",
       "      <th>mean_15.10.15_mfcc_5_40</th>\n",
       "      <th>mean_15.10.15_mfcc_6_40</th>\n",
       "      <th>mean_15.10.15_mfcc_7_40</th>\n",
       "      <th>mean_15.10.15_mfcc_8_40</th>\n",
       "      <th>mean_15.10.15_mfcc_9_40</th>\n",
       "      <th>...</th>\n",
       "      <th>range_15.10.15_cent_8_20</th>\n",
       "      <th>range_15.10.15_cent_9_20</th>\n",
       "      <th>range_15.10.15_cent_10_20</th>\n",
       "      <th>range_15.10.15_cent_11_20</th>\n",
       "      <th>range_15.10.15_cent_12_20</th>\n",
       "      <th>range_15.10.15_cent_13_20</th>\n",
       "      <th>range_15.10.15_cent_14_20</th>\n",
       "      <th>range_15.10.15_cent_15_20</th>\n",
       "      <th>range_15.10.15_cent_16_20</th>\n",
       "      <th>range_15.10.15_cent_17_20</th>\n",
       "    </tr>\n",
       "  </thead>\n",
       "  <tbody>\n",
       "    <tr>\n",
       "      <th>mean_15.10.15_mfcc_0_40</th>\n",
       "      <td>1.000000</td>\n",
       "      <td>-0.102440</td>\n",
       "      <td>-0.539891</td>\n",
       "      <td>-0.081697</td>\n",
       "      <td>-0.153119</td>\n",
       "      <td>-0.217704</td>\n",
       "      <td>-0.129835</td>\n",
       "      <td>0.081068</td>\n",
       "      <td>-0.122725</td>\n",
       "      <td>-0.032958</td>\n",
       "      <td>...</td>\n",
       "      <td>-0.018260</td>\n",
       "      <td>-0.020429</td>\n",
       "      <td>-0.052532</td>\n",
       "      <td>-0.071946</td>\n",
       "      <td>-0.085216</td>\n",
       "      <td>-0.120837</td>\n",
       "      <td>-0.110225</td>\n",
       "      <td>-0.061024</td>\n",
       "      <td>-0.016141</td>\n",
       "      <td>0.022222</td>\n",
       "    </tr>\n",
       "    <tr>\n",
       "      <th>mean_15.10.15_mfcc_1_40</th>\n",
       "      <td>-0.102440</td>\n",
       "      <td>1.000000</td>\n",
       "      <td>0.283985</td>\n",
       "      <td>0.096124</td>\n",
       "      <td>0.081484</td>\n",
       "      <td>0.126586</td>\n",
       "      <td>-0.023086</td>\n",
       "      <td>-0.112648</td>\n",
       "      <td>0.040013</td>\n",
       "      <td>-0.138650</td>\n",
       "      <td>...</td>\n",
       "      <td>-0.188966</td>\n",
       "      <td>-0.210358</td>\n",
       "      <td>-0.206938</td>\n",
       "      <td>-0.175461</td>\n",
       "      <td>-0.151772</td>\n",
       "      <td>-0.176006</td>\n",
       "      <td>-0.192337</td>\n",
       "      <td>-0.192276</td>\n",
       "      <td>-0.200273</td>\n",
       "      <td>-0.218646</td>\n",
       "    </tr>\n",
       "    <tr>\n",
       "      <th>mean_15.10.15_mfcc_2_40</th>\n",
       "      <td>-0.539891</td>\n",
       "      <td>0.283985</td>\n",
       "      <td>1.000000</td>\n",
       "      <td>0.402422</td>\n",
       "      <td>0.124847</td>\n",
       "      <td>0.490499</td>\n",
       "      <td>0.200287</td>\n",
       "      <td>-0.130951</td>\n",
       "      <td>0.213957</td>\n",
       "      <td>-0.009602</td>\n",
       "      <td>...</td>\n",
       "      <td>-0.151263</td>\n",
       "      <td>-0.126996</td>\n",
       "      <td>-0.087729</td>\n",
       "      <td>-0.055035</td>\n",
       "      <td>-0.023964</td>\n",
       "      <td>0.051810</td>\n",
       "      <td>0.114851</td>\n",
       "      <td>0.097003</td>\n",
       "      <td>0.028814</td>\n",
       "      <td>-0.069353</td>\n",
       "    </tr>\n",
       "    <tr>\n",
       "      <th>mean_15.10.15_mfcc_3_40</th>\n",
       "      <td>-0.081697</td>\n",
       "      <td>0.096124</td>\n",
       "      <td>0.402422</td>\n",
       "      <td>1.000000</td>\n",
       "      <td>0.278913</td>\n",
       "      <td>0.268065</td>\n",
       "      <td>0.241145</td>\n",
       "      <td>-0.114710</td>\n",
       "      <td>0.198756</td>\n",
       "      <td>0.129549</td>\n",
       "      <td>...</td>\n",
       "      <td>-0.076997</td>\n",
       "      <td>-0.045178</td>\n",
       "      <td>-0.059289</td>\n",
       "      <td>-0.104259</td>\n",
       "      <td>-0.139672</td>\n",
       "      <td>-0.121022</td>\n",
       "      <td>-0.088891</td>\n",
       "      <td>-0.101244</td>\n",
       "      <td>-0.147225</td>\n",
       "      <td>-0.150098</td>\n",
       "    </tr>\n",
       "    <tr>\n",
       "      <th>mean_15.10.15_mfcc_4_40</th>\n",
       "      <td>-0.153119</td>\n",
       "      <td>0.081484</td>\n",
       "      <td>0.124847</td>\n",
       "      <td>0.278913</td>\n",
       "      <td>1.000000</td>\n",
       "      <td>0.275478</td>\n",
       "      <td>-0.351294</td>\n",
       "      <td>0.113520</td>\n",
       "      <td>0.101285</td>\n",
       "      <td>-0.135330</td>\n",
       "      <td>...</td>\n",
       "      <td>0.272430</td>\n",
       "      <td>0.184660</td>\n",
       "      <td>0.023912</td>\n",
       "      <td>-0.114687</td>\n",
       "      <td>-0.146317</td>\n",
       "      <td>-0.047478</td>\n",
       "      <td>0.115477</td>\n",
       "      <td>0.205771</td>\n",
       "      <td>0.223984</td>\n",
       "      <td>0.145747</td>\n",
       "    </tr>\n",
       "  </tbody>\n",
       "</table>\n",
       "<p>5 rows × 627 columns</p>\n",
       "</div>"
      ],
      "text/plain": [
       "                         mean_15.10.15_mfcc_0_40  mean_15.10.15_mfcc_1_40  \\\n",
       "mean_15.10.15_mfcc_0_40                 1.000000                -0.102440   \n",
       "mean_15.10.15_mfcc_1_40                -0.102440                 1.000000   \n",
       "mean_15.10.15_mfcc_2_40                -0.539891                 0.283985   \n",
       "mean_15.10.15_mfcc_3_40                -0.081697                 0.096124   \n",
       "mean_15.10.15_mfcc_4_40                -0.153119                 0.081484   \n",
       "\n",
       "                         mean_15.10.15_mfcc_2_40  mean_15.10.15_mfcc_3_40  \\\n",
       "mean_15.10.15_mfcc_0_40                -0.539891                -0.081697   \n",
       "mean_15.10.15_mfcc_1_40                 0.283985                 0.096124   \n",
       "mean_15.10.15_mfcc_2_40                 1.000000                 0.402422   \n",
       "mean_15.10.15_mfcc_3_40                 0.402422                 1.000000   \n",
       "mean_15.10.15_mfcc_4_40                 0.124847                 0.278913   \n",
       "\n",
       "                         mean_15.10.15_mfcc_4_40  mean_15.10.15_mfcc_5_40  \\\n",
       "mean_15.10.15_mfcc_0_40                -0.153119                -0.217704   \n",
       "mean_15.10.15_mfcc_1_40                 0.081484                 0.126586   \n",
       "mean_15.10.15_mfcc_2_40                 0.124847                 0.490499   \n",
       "mean_15.10.15_mfcc_3_40                 0.278913                 0.268065   \n",
       "mean_15.10.15_mfcc_4_40                 1.000000                 0.275478   \n",
       "\n",
       "                         mean_15.10.15_mfcc_6_40  mean_15.10.15_mfcc_7_40  \\\n",
       "mean_15.10.15_mfcc_0_40                -0.129835                 0.081068   \n",
       "mean_15.10.15_mfcc_1_40                -0.023086                -0.112648   \n",
       "mean_15.10.15_mfcc_2_40                 0.200287                -0.130951   \n",
       "mean_15.10.15_mfcc_3_40                 0.241145                -0.114710   \n",
       "mean_15.10.15_mfcc_4_40                -0.351294                 0.113520   \n",
       "\n",
       "                         mean_15.10.15_mfcc_8_40  mean_15.10.15_mfcc_9_40  \\\n",
       "mean_15.10.15_mfcc_0_40                -0.122725                -0.032958   \n",
       "mean_15.10.15_mfcc_1_40                 0.040013                -0.138650   \n",
       "mean_15.10.15_mfcc_2_40                 0.213957                -0.009602   \n",
       "mean_15.10.15_mfcc_3_40                 0.198756                 0.129549   \n",
       "mean_15.10.15_mfcc_4_40                 0.101285                -0.135330   \n",
       "\n",
       "                         ...  range_15.10.15_cent_8_20  \\\n",
       "mean_15.10.15_mfcc_0_40  ...                 -0.018260   \n",
       "mean_15.10.15_mfcc_1_40  ...                 -0.188966   \n",
       "mean_15.10.15_mfcc_2_40  ...                 -0.151263   \n",
       "mean_15.10.15_mfcc_3_40  ...                 -0.076997   \n",
       "mean_15.10.15_mfcc_4_40  ...                  0.272430   \n",
       "\n",
       "                         range_15.10.15_cent_9_20  range_15.10.15_cent_10_20  \\\n",
       "mean_15.10.15_mfcc_0_40                 -0.020429                  -0.052532   \n",
       "mean_15.10.15_mfcc_1_40                 -0.210358                  -0.206938   \n",
       "mean_15.10.15_mfcc_2_40                 -0.126996                  -0.087729   \n",
       "mean_15.10.15_mfcc_3_40                 -0.045178                  -0.059289   \n",
       "mean_15.10.15_mfcc_4_40                  0.184660                   0.023912   \n",
       "\n",
       "                         range_15.10.15_cent_11_20  range_15.10.15_cent_12_20  \\\n",
       "mean_15.10.15_mfcc_0_40                  -0.071946                  -0.085216   \n",
       "mean_15.10.15_mfcc_1_40                  -0.175461                  -0.151772   \n",
       "mean_15.10.15_mfcc_2_40                  -0.055035                  -0.023964   \n",
       "mean_15.10.15_mfcc_3_40                  -0.104259                  -0.139672   \n",
       "mean_15.10.15_mfcc_4_40                  -0.114687                  -0.146317   \n",
       "\n",
       "                         range_15.10.15_cent_13_20  range_15.10.15_cent_14_20  \\\n",
       "mean_15.10.15_mfcc_0_40                  -0.120837                  -0.110225   \n",
       "mean_15.10.15_mfcc_1_40                  -0.176006                  -0.192337   \n",
       "mean_15.10.15_mfcc_2_40                   0.051810                   0.114851   \n",
       "mean_15.10.15_mfcc_3_40                  -0.121022                  -0.088891   \n",
       "mean_15.10.15_mfcc_4_40                  -0.047478                   0.115477   \n",
       "\n",
       "                         range_15.10.15_cent_15_20  range_15.10.15_cent_16_20  \\\n",
       "mean_15.10.15_mfcc_0_40                  -0.061024                  -0.016141   \n",
       "mean_15.10.15_mfcc_1_40                  -0.192276                  -0.200273   \n",
       "mean_15.10.15_mfcc_2_40                   0.097003                   0.028814   \n",
       "mean_15.10.15_mfcc_3_40                  -0.101244                  -0.147225   \n",
       "mean_15.10.15_mfcc_4_40                   0.205771                   0.223984   \n",
       "\n",
       "                         range_15.10.15_cent_17_20  \n",
       "mean_15.10.15_mfcc_0_40                   0.022222  \n",
       "mean_15.10.15_mfcc_1_40                  -0.218646  \n",
       "mean_15.10.15_mfcc_2_40                  -0.069353  \n",
       "mean_15.10.15_mfcc_3_40                  -0.150098  \n",
       "mean_15.10.15_mfcc_4_40                   0.145747  \n",
       "\n",
       "[5 rows x 627 columns]"
      ]
     },
     "execution_count": 3,
     "metadata": {},
     "output_type": "execute_result"
    }
   ],
   "source": [
    "data.correlation_matrix().head()"
   ]
  },
  {
   "cell_type": "markdown",
   "metadata": {},
   "source": [
    "### 2.2 Do any features seem redundant?"
   ]
  },
  {
   "cell_type": "code",
   "execution_count": 4,
   "metadata": {},
   "outputs": [],
   "source": [
    "# TODO"
   ]
  },
  {
   "cell_type": "markdown",
   "metadata": {},
   "source": [
    "### 2.3 Which features correlate with the labels?"
   ]
  },
  {
   "cell_type": "code",
   "execution_count": 5,
   "metadata": {},
   "outputs": [
    {
     "data": {
      "text/plain": [
       "choral    1.0\n",
       "Name: choral, dtype: float64"
      ]
     },
     "execution_count": 5,
     "metadata": {},
     "output_type": "execute_result"
    }
   ],
   "source": [
    "corr_matrix = data.correlation_matrix('choral')\n",
    "corr_matrix[abs(corr_matrix) > 0.5]"
   ]
  },
  {
   "cell_type": "code",
   "execution_count": 6,
   "metadata": {},
   "outputs": [
    {
     "data": {
      "text/plain": [
       "female                      1.000000\n",
       "mean_15.10.15_cont_14_20    0.542872\n",
       "mean_15.10.15_cont_17_20   -0.513996\n",
       "Name: female, dtype: float64"
      ]
     },
     "execution_count": 6,
     "metadata": {},
     "output_type": "execute_result"
    }
   ],
   "source": [
    "corr_matrix = data.correlation_matrix('female')\n",
    "corr_matrix[abs(corr_matrix) > 0.5]"
   ]
  },
  {
   "cell_type": "code",
   "execution_count": 7,
   "metadata": {},
   "outputs": [
    {
     "data": {
      "text/plain": [
       "male                        1.000000\n",
       "mean_15.10.15_cont_13_20    0.562378\n",
       "mean_15.10.15_cent_15_20   -0.608077\n",
       "mean_15.10.15_cont_15_20   -0.646953\n",
       "Name: male, dtype: float64"
      ]
     },
     "execution_count": 7,
     "metadata": {},
     "output_type": "execute_result"
    }
   ],
   "source": [
    "corr_matrix = data.correlation_matrix('male')\n",
    "corr_matrix[abs(corr_matrix) > 0.5]"
   ]
  },
  {
   "cell_type": "markdown",
   "metadata": {},
   "source": [
    "### 2.4 Are there any outliers (in terms of features, or recordings)?"
   ]
  },
  {
   "cell_type": "code",
   "execution_count": 8,
   "metadata": {},
   "outputs": [
    {
     "data": {
      "text/plain": [
       "array([     0,      1,      2, ..., 106464, 106465, 106466], dtype=int64)"
      ]
     },
     "execution_count": 8,
     "metadata": {},
     "output_type": "execute_result"
    }
   ],
   "source": [
    "z = np.abs(stats.zscore(data.features()))\n",
    "rows, columns = np.where(z > 3)\n",
    "np.unique(rows)\n",
    "\n",
    "# TODO: maybe remove those instances"
   ]
  },
  {
   "cell_type": "code",
   "execution_count": 9,
   "metadata": {},
   "outputs": [
    {
     "data": {
      "text/plain": [
       "<matplotlib.axes._subplots.AxesSubplot at 0x13a0000acc8>"
      ]
     },
     "execution_count": 9,
     "metadata": {},
     "output_type": "execute_result"
    },
    {
     "data": {
      "image/png": "[encoded data removed]",
      "text/plain": [
       "<Figure size 432x288 with 1 Axes>"
      ]
     },
     "metadata": {
      "needs_background": "light"
     },
     "output_type": "display_data"
    }
   ],
   "source": [
    "sns.boxplot(x=data.columns(data.feature_names[0]))"
   ]
  },
  {
   "cell_type": "code",
   "execution_count": 10,
   "metadata": {},
   "outputs": [
    {
     "data": {
      "text/plain": [
       "<matplotlib.collections.PathCollection at 0x13a220fbb88>"
      ]
     },
     "execution_count": 10,
     "metadata": {},
     "output_type": "execute_result"
    },
    {
     "data": {
      "image/png": "[encoded data removed]",
      "text/plain": [
       "<Figure size 432x288 with 1 Axes>"
      ]
     },
     "metadata": {
      "needs_background": "light"
     },
     "output_type": "display_data"
    }
   ],
   "source": [
    "plt.scatter(data.columns(data.feature_names[0]), data.columns(data.feature_names[1]))"
   ]
  },
  {
   "cell_type": "code",
   "execution_count": 11,
   "metadata": {},
   "outputs": [],
   "source": [
    "def pca(X, y, n_components, plot=True):\n",
    "    pca = PCA(n_components=n_components)\n",
    "    y_pca = pca.fit_transform(X)\n",
    "\n",
    "    if plot:\n",
    "        classes = list(set(y))\n",
    "\n",
    "        colors = sns.color_palette(n_colors=len(classes)).as_hex()\n",
    "\n",
    "        width = 14\n",
    "        cols = 4\n",
    "        rows = np.math.ceil(np.sum([i for i in range(n_components)]) / cols)\n",
    "        fig, axs = plt.subplots(rows, cols, figsize=(width, rows * width / cols))\n",
    "\n",
    "        for i, (pc_1, pc_2) in enumerate(itertools.combinations(range(n_components), 2)):\n",
    "            for index, c in enumerate(classes):\n",
    "                ax = axs[int(i / cols), int(i % cols)]\n",
    "                ax.scatter(y_pca[y==c, pc_1], y_pca[y==c, pc_2], color=colors[index], label=c, s=3)\n",
    "\n",
    "        handles, labels = ax.get_legend_handles_labels()\n",
    "        fig.legend(handles, labels)\n",
    "        fig.suptitle('Downprojected data')\n",
    "\n",
    "        plt.show()\n",
    "\n",
    "    return pca"
   ]
  },
  {
   "cell_type": "code",
   "execution_count": 12,
   "metadata": {},
   "outputs": [
    {
     "data": {
      "image/png": "[encoded data removed]",
      "text/plain": [
       "<Figure size 1008x504 with 8 Axes>"
      ]
     },
     "metadata": {
      "needs_background": "light"
     },
     "output_type": "display_data"
    },
    {
     "name": "stdout",
     "output_type": "stream",
     "text": [
      "Explained variance: [0.68742866 0.90995108 0.96275893 0.97704182]\n"
     ]
    }
   ],
   "source": [
    "p = pca(data.features(), data.labels('male').iloc[:, 0].values, 4)\n",
    "print(f'Explained variance: {p.explained_variance_ratio_.cumsum()}')"
   ]
  },
  {
   "cell_type": "markdown",
   "metadata": {},
   "source": [
    "### 2.5 Any other interesting observations?"
   ]
  },
  {
   "cell_type": "code",
   "execution_count": 13,
   "metadata": {},
   "outputs": [
    {
     "data": {
      "text/plain": [
       "<matplotlib.axes._subplots.AxesSubplot at 0x13a66d6fe48>"
      ]
     },
     "execution_count": 13,
     "metadata": {},
     "output_type": "execute_result"
    },
    {
     "data": {
      "image/png": "[encoded data removed]",
      "text/plain": [
       "<Figure size 432x288 with 1 Axes>"
      ]
     },
     "metadata": {
      "needs_background": "light"
     },
     "output_type": "display_data"
    }
   ],
   "source": [
    "sns.countplot(x = 'choral', data=data.data)"
   ]
  },
  {
   "cell_type": "code",
   "execution_count": 14,
   "metadata": {},
   "outputs": [
    {
     "data": {
      "text/plain": [
       "<matplotlib.axes._subplots.AxesSubplot at 0x13a67435a08>"
      ]
     },
     "execution_count": 14,
     "metadata": {},
     "output_type": "execute_result"
    },
    {
     "data": {
      "image/png": "[encoded data removed]",
      "text/plain": [
       "<Figure size 432x288 with 1 Axes>"
      ]
     },
     "metadata": {
      "needs_background": "light"
     },
     "output_type": "display_data"
    }
   ],
   "source": [
    "sns.countplot(x = 'female', data=data.data)"
   ]
  },
  {
   "cell_type": "code",
   "execution_count": 15,
   "metadata": {},
   "outputs": [
    {
     "data": {
      "text/plain": [
       "<matplotlib.axes._subplots.AxesSubplot at 0x13a23790e08>"
      ]
     },
     "execution_count": 15,
     "metadata": {},
     "output_type": "execute_result"
    },
    {
     "data": {
      "image/png": "[encoded data removed]",
      "text/plain": [
       "<Figure size 432x288 with 1 Axes>"
      ]
     },
     "metadata": {
      "needs_background": "light"
     },
     "output_type": "display_data"
    }
   ],
   "source": [
    "sns.countplot(x = 'male', data=data.data)"
   ]
  },
  {
   "cell_type": "markdown",
   "metadata": {},
   "source": [
    "### 2.6 Optional: Any correspondence to metadata?"
   ]
  },
  {
   "cell_type": "code",
   "execution_count": 16,
   "metadata": {},
   "outputs": [],
   "source": [
    "# TODO"
   ]
  },
  {
   "cell_type": "markdown",
   "metadata": {},
   "source": [
    "### 2.7 Optional: What about multiple annotations?"
   ]
  },
  {
   "cell_type": "code",
   "execution_count": 17,
   "metadata": {},
   "outputs": [],
   "source": [
    "# TODO"
   ]
  },
  {
   "cell_type": "markdown",
   "metadata": {},
   "source": [
    "## 3 Train and evaluate classifiers\n",
    "Perform systematic experiments, using cross-validation, with at least 4 different learning algorithms (suggestion: one from each major group: Support Vector Machines, Neural Networks, Nearest Neighbor Classifiers, Naive Bayes, Decision Trees, Generalized Linear Models, Linear and Quadratic Discriminant Analysis, etc.; perhaps also an “ensemble method” such as Random Forest). Focus on framewise classification accuracy as the evaluation criterion.\n",
    "\n",
    "For each algorithm: perform a systematic evaluation of different parameter settings, for those parameters that control the algorithm’s overfitting behaviour. Analyse and document how the parameters affect the learned models, and whether overfitting occurs, and to what extent."
   ]
  },
  {
   "cell_type": "code",
   "execution_count": 18,
   "metadata": {},
   "outputs": [
    {
     "name": "stdout",
     "output_type": "stream",
     "text": [
      "Generating 5 folds out of data from 5 performances.\n",
      "Generating 5 folds out of data from 5 performances.\n",
      "Generating 5 folds out of data from 5 performances.\n"
     ]
    }
   ],
   "source": [
    "folds_choral = data.generate_folds('choral', sampling='up')\n",
    "folds_female = data.generate_folds('female')\n",
    "folds_male = data.generate_folds('male')"
   ]
  },
  {
   "cell_type": "code",
   "execution_count": 19,
   "metadata": {
    "scrolled": true
   },
   "outputs": [
    {
     "name": "stdout",
     "output_type": "stream",
     "text": [
      "Evaluating lr\n"
     ]
    },
    {
     "name": "stderr",
     "output_type": "stream",
     "text": [
      "[Parallel(n_jobs=1)]: Using backend SequentialBackend with 1 concurrent workers.\n",
      "[Parallel(n_jobs=1)]: Done   1 out of   1 | elapsed:    0.9s finished\n",
      "[Parallel(n_jobs=1)]: Using backend SequentialBackend with 1 concurrent workers.\n",
      "[Parallel(n_jobs=1)]: Done   1 out of   1 | elapsed:    0.9s finished\n",
      "[Parallel(n_jobs=1)]: Using backend SequentialBackend with 1 concurrent workers.\n",
      "[Parallel(n_jobs=1)]: Done   1 out of   1 | elapsed:    0.9s finished\n",
      "[Parallel(n_jobs=1)]: Using backend SequentialBackend with 1 concurrent workers.\n",
      "[Parallel(n_jobs=1)]: Done   1 out of   1 | elapsed:    0.5s finished\n",
      "[Parallel(n_jobs=1)]: Using backend SequentialBackend with 1 concurrent workers.\n",
      "[Parallel(n_jobs=1)]: Done   1 out of   1 | elapsed:    0.9s finished\n",
      "/mnt/c/Users/paulg/OneDrive/JKU/6. Semester/Machine Learning and Pattern Classification/Project/evaluation_runner.py:87: RuntimeWarning: invalid value encountered in true_divide\n",
      "  fpr = fp / float(fp + tn)\n",
      "/home/paulg/.local/lib/python3.6/site-packages/sklearn/metrics/_ranking.py:808: UndefinedMetricWarning: No positive samples in y_true, true positive value should be meaningless\n",
      "  UndefinedMetricWarning)\n"
     ]
    },
    {
     "data": {
      "text/html": [
       "<div>\n",
       "<style scoped>\n",
       "    .dataframe tbody tr th:only-of-type {\n",
       "        vertical-align: middle;\n",
       "    }\n",
       "\n",
       "    .dataframe tbody tr th {\n",
       "        vertical-align: top;\n",
       "    }\n",
       "\n",
       "    .dataframe thead th {\n",
       "        text-align: right;\n",
       "    }\n",
       "</style>\n",
       "<table border=\"1\" class=\"dataframe\">\n",
       "  <thead>\n",
       "    <tr style=\"text-align: right;\">\n",
       "      <th></th>\n",
       "      <th>accuracy</th>\n",
       "      <th>auc_score</th>\n",
       "      <th>fnr</th>\n",
       "      <th>fold</th>\n",
       "      <th>fpr</th>\n",
       "      <th>fprs</th>\n",
       "      <th>name</th>\n",
       "      <th>tprs</th>\n",
       "    </tr>\n",
       "  </thead>\n",
       "  <tbody>\n",
       "    <tr>\n",
       "      <th>0</th>\n",
       "      <td>0.857887</td>\n",
       "      <td>0.938065</td>\n",
       "      <td>0.144857</td>\n",
       "      <td>0</td>\n",
       "      <td>0.114650</td>\n",
       "      <td>[0.0, 0.0, 0.0006362672322375398, 0.0006362672...</td>\n",
       "      <td>lr</td>\n",
       "      <td>[0.0, 0.021231422505307854, 0.0212314225053078...</td>\n",
       "    </tr>\n",
       "    <tr>\n",
       "      <th>1</th>\n",
       "      <td>0.650330</td>\n",
       "      <td>0.802257</td>\n",
       "      <td>0.458419</td>\n",
       "      <td>1</td>\n",
       "      <td>0.111422</td>\n",
       "      <td>[0.0, 9.818360333824252e-05, 0.000392734413352...</td>\n",
       "      <td>lr</td>\n",
       "      <td>[0.0, 0.0, 0.0, 0.0019359001935900194, 0.00193...</td>\n",
       "    </tr>\n",
       "    <tr>\n",
       "      <th>2</th>\n",
       "      <td>0.743694</td>\n",
       "      <td>0.758676</td>\n",
       "      <td>0.240671</td>\n",
       "      <td>2</td>\n",
       "      <td>0.281964</td>\n",
       "      <td>[0.0, 0.00046904315196998124, 0.00349176568688...</td>\n",
       "      <td>lr</td>\n",
       "      <td>[0.0, 0.0, 0.0, 0.0010262550243735568, 0.00102...</td>\n",
       "    </tr>\n",
       "    <tr>\n",
       "      <th>3</th>\n",
       "      <td>0.500778</td>\n",
       "      <td>0.836987</td>\n",
       "      <td>0.024158</td>\n",
       "      <td>3</td>\n",
       "      <td>0.679376</td>\n",
       "      <td>[0.0, 0.0, 0.0, 0.0, 0.0, 0.0, 0.0, 0.0, 0.0, ...</td>\n",
       "      <td>lr</td>\n",
       "      <td>[0.0, 0.00026554547466253595, 0.00046470458065...</td>\n",
       "    </tr>\n",
       "    <tr>\n",
       "      <th>4</th>\n",
       "      <td>0.695286</td>\n",
       "      <td>NaN</td>\n",
       "      <td>0.304714</td>\n",
       "      <td>4</td>\n",
       "      <td>NaN</td>\n",
       "      <td>[0.0, 0.00015304560759106213, 1.0]</td>\n",
       "      <td>lr</td>\n",
       "      <td>[nan, nan, nan]</td>\n",
       "    </tr>\n",
       "  </tbody>\n",
       "</table>\n",
       "</div>"
      ],
      "text/plain": [
       "   accuracy  auc_score       fnr  fold       fpr  \\\n",
       "0  0.857887   0.938065  0.144857     0  0.114650   \n",
       "1  0.650330   0.802257  0.458419     1  0.111422   \n",
       "2  0.743694   0.758676  0.240671     2  0.281964   \n",
       "3  0.500778   0.836987  0.024158     3  0.679376   \n",
       "4  0.695286        NaN  0.304714     4       NaN   \n",
       "\n",
       "                                                fprs name  \\\n",
       "0  [0.0, 0.0, 0.0006362672322375398, 0.0006362672...   lr   \n",
       "1  [0.0, 9.818360333824252e-05, 0.000392734413352...   lr   \n",
       "2  [0.0, 0.00046904315196998124, 0.00349176568688...   lr   \n",
       "3  [0.0, 0.0, 0.0, 0.0, 0.0, 0.0, 0.0, 0.0, 0.0, ...   lr   \n",
       "4                 [0.0, 0.00015304560759106213, 1.0]   lr   \n",
       "\n",
       "                                                tprs  \n",
       "0  [0.0, 0.021231422505307854, 0.0212314225053078...  \n",
       "1  [0.0, 0.0, 0.0, 0.0019359001935900194, 0.00193...  \n",
       "2  [0.0, 0.0, 0.0, 0.0010262550243735568, 0.00102...  \n",
       "3  [0.0, 0.00026554547466253595, 0.00046470458065...  \n",
       "4                                    [nan, nan, nan]  "
      ]
     },
     "execution_count": 19,
     "metadata": {},
     "output_type": "execute_result"
    }
   ],
   "source": [
    "runner = EvaluationRunner({'lr': LogisticRegression()})\n",
    "runner.cross_validate(folds_choral, scaler=StandardScaler(), projector=PCA(n_components=40))"
   ]
  },
  {
   "cell_type": "code",
   "execution_count": 3,
   "metadata": {},
   "outputs": [],
   "source": [
    "X, y, cv = data.generate_folds('choral', sampling='up')"
   ]
  },
  {
   "cell_type": "code",
   "execution_count": 4,
   "metadata": {},
   "outputs": [
    {
     "name": "stdout",
     "output_type": "stream",
     "text": [
      "Evaluating lr\n"
     ]
    },
    {
     "name": "stderr",
     "output_type": "stream",
     "text": [
      "C:\\Users\\paulg\\OneDrive\\JKU\\6. Semester\\Machine Learning and Pattern Classification\\Project\\evaluation_runner.py:61: RuntimeWarning: invalid value encountered in true_divide\n",
      "  fpr = fp / float(fp + tn)\n",
      "c:\\users\\paulg\\appdata\\local\\programs\\python\\python37\\lib\\site-packages\\sklearn\\metrics\\_ranking.py:808: UndefinedMetricWarning: No positive samples in y_true, true positive value should be meaningless\n",
      "  UndefinedMetricWarning)\n"
     ]
    },
    {
     "data": {
      "text/html": [
       "<div>\n",
       "<style scoped>\n",
       "    .dataframe tbody tr th:only-of-type {\n",
       "        vertical-align: middle;\n",
       "    }\n",
       "\n",
       "    .dataframe tbody tr th {\n",
       "        vertical-align: top;\n",
       "    }\n",
       "\n",
       "    .dataframe thead th {\n",
       "        text-align: right;\n",
       "    }\n",
       "</style>\n",
       "<table border=\"1\" class=\"dataframe\">\n",
       "  <thead>\n",
       "    <tr style=\"text-align: right;\">\n",
       "      <th></th>\n",
       "      <th>accuracy</th>\n",
       "      <th>fpr</th>\n",
       "      <th>fnr</th>\n",
       "      <th>auc_score</th>\n",
       "      <th>fprs</th>\n",
       "      <th>tprs</th>\n",
       "      <th>name</th>\n",
       "      <th>fold</th>\n",
       "    </tr>\n",
       "  </thead>\n",
       "  <tbody>\n",
       "    <tr>\n",
       "      <th>0</th>\n",
       "      <td>0.857887</td>\n",
       "      <td>0.114650</td>\n",
       "      <td>0.144857</td>\n",
       "      <td>0.938065</td>\n",
       "      <td>[0.0, 0.0, 0.0006362672322375398, 0.0006362672...</td>\n",
       "      <td>[0.0, 0.021231422505307854, 0.0212314225053078...</td>\n",
       "      <td>lr</td>\n",
       "      <td>0</td>\n",
       "    </tr>\n",
       "    <tr>\n",
       "      <th>1</th>\n",
       "      <td>0.650330</td>\n",
       "      <td>0.111422</td>\n",
       "      <td>0.458419</td>\n",
       "      <td>0.802257</td>\n",
       "      <td>[0.0, 9.818360333824252e-05, 0.000392734413352...</td>\n",
       "      <td>[0.0, 0.0, 0.0, 0.0019359001935900194, 0.00193...</td>\n",
       "      <td>lr</td>\n",
       "      <td>1</td>\n",
       "    </tr>\n",
       "    <tr>\n",
       "      <th>2</th>\n",
       "      <td>0.743694</td>\n",
       "      <td>0.281964</td>\n",
       "      <td>0.240671</td>\n",
       "      <td>0.758676</td>\n",
       "      <td>[0.0, 0.00046904315196998124, 0.00349176568688...</td>\n",
       "      <td>[0.0, 0.0, 0.0, 0.0010262550243735568, 0.00102...</td>\n",
       "      <td>lr</td>\n",
       "      <td>2</td>\n",
       "    </tr>\n",
       "    <tr>\n",
       "      <th>3</th>\n",
       "      <td>0.500778</td>\n",
       "      <td>0.679376</td>\n",
       "      <td>0.024158</td>\n",
       "      <td>0.836987</td>\n",
       "      <td>[0.0, 0.0, 0.0, 0.0, 0.0, 0.0, 0.0, 0.0, 0.0, ...</td>\n",
       "      <td>[0.0, 0.00026554547466253595, 0.00046470458065...</td>\n",
       "      <td>lr</td>\n",
       "      <td>3</td>\n",
       "    </tr>\n",
       "    <tr>\n",
       "      <th>4</th>\n",
       "      <td>0.695286</td>\n",
       "      <td>NaN</td>\n",
       "      <td>0.304714</td>\n",
       "      <td>NaN</td>\n",
       "      <td>[0.0, 0.00015304560759106213, 1.0]</td>\n",
       "      <td>[nan, nan, nan]</td>\n",
       "      <td>lr</td>\n",
       "      <td>4</td>\n",
       "    </tr>\n",
       "  </tbody>\n",
       "</table>\n",
       "</div>"
      ],
      "text/plain": [
       "   accuracy       fpr       fnr  auc_score  \\\n",
       "0  0.857887  0.114650  0.144857   0.938065   \n",
       "1  0.650330  0.111422  0.458419   0.802257   \n",
       "2  0.743694  0.281964  0.240671   0.758676   \n",
       "3  0.500778  0.679376  0.024158   0.836987   \n",
       "4  0.695286       NaN  0.304714        NaN   \n",
       "\n",
       "                                                fprs  \\\n",
       "0  [0.0, 0.0, 0.0006362672322375398, 0.0006362672...   \n",
       "1  [0.0, 9.818360333824252e-05, 0.000392734413352...   \n",
       "2  [0.0, 0.00046904315196998124, 0.00349176568688...   \n",
       "3  [0.0, 0.0, 0.0, 0.0, 0.0, 0.0, 0.0, 0.0, 0.0, ...   \n",
       "4                 [0.0, 0.00015304560759106213, 1.0]   \n",
       "\n",
       "                                                tprs name  fold  \n",
       "0  [0.0, 0.021231422505307854, 0.0212314225053078...   lr     0  \n",
       "1  [0.0, 0.0, 0.0, 0.0019359001935900194, 0.00193...   lr     1  \n",
       "2  [0.0, 0.0, 0.0, 0.0010262550243735568, 0.00102...   lr     2  \n",
       "3  [0.0, 0.00026554547466253595, 0.00046470458065...   lr     3  \n",
       "4                                    [nan, nan, nan]   lr     4  "
      ]
     },
     "execution_count": 4,
     "metadata": {},
     "output_type": "execute_result"
    }
   ],
   "source": [
    "runner = EvaluationRunner({'lr': LogisticRegression()})\n",
    "runner.cross_validate(X.values, y.values, cv, scaler=StandardScaler(), projector=PCA(n_components=40))"
   ]
  },
  {
   "cell_type": "code",
   "execution_count": 20,
   "metadata": {},
   "outputs": [
    {
     "name": "stdout",
     "output_type": "stream",
     "text": [
      "Model with rank: 1\n",
      "Mean validation score: 0.734 (std: 0.095)\n",
      "Parameters: {'classifier__C': 1.0, 'classifier__l1_ratio': 0.0}\n",
      "\n",
      "Model with rank: 2\n",
      "Mean validation score: 0.731 (std: 0.095)\n",
      "Parameters: {'classifier__C': 0.01, 'classifier__l1_ratio': 1.0}\n",
      "\n",
      "Model with rank: 3\n",
      "Mean validation score: 0.730 (std: 0.095)\n",
      "Parameters: {'classifier__C': 0.01, 'classifier__l1_ratio': 0.0}\n",
      "\n"
     ]
    },
    {
     "data": {
      "image/png": "[encoded data removed]",
      "text/plain": [
       "<Figure size 1080x504 with 2 Axes>"
      ]
     },
     "metadata": {
      "needs_background": "light"
     },
     "output_type": "display_data"
    },
    {
     "data": {
      "text/plain": [
       "GridSearchCV(cv=[(array([     0,      1,      2, ..., 124945, 124946, 124947]),\n",
       "                  array([ 46510,  46511,  46512, ..., 124709, 124752, 124872])),\n",
       "                 (array([     0,      1,      2, ..., 124945, 124946, 124947]),\n",
       "                  array([ 36325,  36326,  36327, ..., 124898, 124930, 124934])),\n",
       "                 (array([ 19188,  19189,  19190, ..., 124945, 124946, 124947]),\n",
       "                  array([     0,      1,      2, ..., 124928, 124937, 124941])),\n",
       "                 (array([     0,      1,      2, ..., 124934, 124937, 124941]),\n",
       "                  array([ 191...\n",
       "                                                           max_iter=500,\n",
       "                                                           multi_class='auto',\n",
       "                                                           n_jobs=None,\n",
       "                                                           penalty='elasticnet',\n",
       "                                                           random_state=None,\n",
       "                                                           solver='saga',\n",
       "                                                           tol=0.0001,\n",
       "                                                           verbose=0,\n",
       "                                                           warm_start=False))],\n",
       "                                verbose=False),\n",
       "             iid='deprecated', n_jobs=None,\n",
       "             param_grid={'classifier__C': array([0.01, 0.1 , 1.  ]),\n",
       "                         'classifier__l1_ratio': array([0., 1.])},\n",
       "             pre_dispatch='2*n_jobs', refit=True, return_train_score=False,\n",
       "             scoring=None, verbose=0)"
      ]
     },
     "execution_count": 20,
     "metadata": {},
     "output_type": "execute_result"
    }
   ],
   "source": [
    "clf = LogisticRegression(max_iter=500, class_weight='balanced', penalty='elasticnet', solver='saga')\n",
    "grid_search = GridSearchWrapper(clf, StandardScaler(), PCA(n_components=50))\n",
    "param_grid = {'l1_ratio': np.linspace(0, 1, num=2), 'C': np.power(10, np.arange(-2, 1, dtype=float))}\n",
    "grid_search.fit(X, y, param_grid, cv)"
   ]
  }
 ],
 "metadata": {
  "kernelspec": {
   "display_name": "Python 3",
   "language": "python",
   "name": "python3"
  },
  "language_info": {
   "codemirror_mode": {
    "name": "ipython",
    "version": 3
   },
   "file_extension": ".py",
   "mimetype": "text/x-python",
   "name": "python",
   "nbconvert_exporter": "python",
   "pygments_lexer": "ipython3",
   "version": "3.7.7"
  }
 },
 "nbformat": 4,
 "nbformat_minor": 2
}
